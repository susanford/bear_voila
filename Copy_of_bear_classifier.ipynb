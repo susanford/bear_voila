{
  "nbformat": 4,
  "nbformat_minor": 0,
  "metadata": {
    "jupytext": {
      "split_at_heading": true
    },
    "kernelspec": {
      "display_name": "Python 3",
      "language": "python",
      "name": "python3"
    },
    "language_info": {
      "codemirror_mode": {
        "name": "ipython",
        "version": 3
      },
      "file_extension": ".py",
      "mimetype": "text/x-python",
      "name": "python",
      "nbconvert_exporter": "python",
      "pygments_lexer": "ipython3",
      "version": "3.7.7"
    },
    "toc": {
      "base_numbering": 1,
      "nav_menu": {},
      "number_sections": false,
      "sideBar": true,
      "skip_h1_title": true,
      "title_cell": "Table of Contents",
      "title_sidebar": "Contents",
      "toc_cell": false,
      "toc_position": {},
      "toc_section_display": true,
      "toc_window_display": false
    },
    "colab": {
      "name": "Copy of bear_classifier.ipynb",
      "provenance": [],
      "include_colab_link": true
    },
    "widgets": {
      "application/vnd.jupyter.widget-state+json": {
        "0bda41c9755f436498fbbe2ae87c75be": {
          "model_module": "@jupyter-widgets/controls",
          "model_name": "VBoxModel",
          "state": {
            "_view_name": "VBoxView",
            "_dom_classes": [],
            "_model_name": "VBoxModel",
            "_view_module": "@jupyter-widgets/controls",
            "_model_module_version": "1.5.0",
            "_view_count": null,
            "_view_module_version": "1.5.0",
            "box_style": "",
            "layout": "IPY_MODEL_02d4fa59a5ca46fb81e9e37e6095d15d",
            "_model_module": "@jupyter-widgets/controls",
            "children": [
              "IPY_MODEL_ef2ce1bcabc34b378e88bcb63526e445",
              "IPY_MODEL_2f54ff8c04e24ea793e0e1997d66bab6",
              "IPY_MODEL_315906fa0ef041d7815bc659079eddb9",
              "IPY_MODEL_48349089b9154a839295363970a1d37a"
            ]
          }
        },
        "02d4fa59a5ca46fb81e9e37e6095d15d": {
          "model_module": "@jupyter-widgets/base",
          "model_name": "LayoutModel",
          "state": {
            "_view_name": "LayoutView",
            "grid_template_rows": null,
            "right": null,
            "justify_content": null,
            "_view_module": "@jupyter-widgets/base",
            "overflow": null,
            "_model_module_version": "1.2.0",
            "_view_count": null,
            "flex_flow": null,
            "width": null,
            "min_width": null,
            "border": null,
            "align_items": null,
            "bottom": null,
            "_model_module": "@jupyter-widgets/base",
            "top": null,
            "grid_column": null,
            "overflow_y": null,
            "overflow_x": null,
            "grid_auto_flow": null,
            "grid_area": null,
            "grid_template_columns": null,
            "flex": null,
            "_model_name": "LayoutModel",
            "justify_items": null,
            "grid_row": null,
            "max_height": null,
            "align_content": null,
            "visibility": null,
            "align_self": null,
            "height": null,
            "min_height": null,
            "padding": null,
            "grid_auto_rows": null,
            "grid_gap": null,
            "max_width": null,
            "order": null,
            "_view_module_version": "1.2.0",
            "grid_template_areas": null,
            "object_position": null,
            "object_fit": null,
            "grid_auto_columns": null,
            "margin": null,
            "display": null,
            "left": null
          }
        },
        "ef2ce1bcabc34b378e88bcb63526e445": {
          "model_module": "@jupyter-widgets/controls",
          "model_name": "LabelModel",
          "state": {
            "_view_name": "LabelView",
            "style": "IPY_MODEL_5d7db9539901477589e82bb497f0b541",
            "_dom_classes": [],
            "description": "",
            "_model_name": "LabelModel",
            "placeholder": "​",
            "_view_module": "@jupyter-widgets/controls",
            "_model_module_version": "1.5.0",
            "value": "Select your bear!",
            "_view_count": null,
            "_view_module_version": "1.5.0",
            "description_tooltip": null,
            "_model_module": "@jupyter-widgets/controls",
            "layout": "IPY_MODEL_f44c3773f12c4001b66ebc605d5de8f3"
          }
        },
        "2f54ff8c04e24ea793e0e1997d66bab6": {
          "model_module": "@jupyter-widgets/controls",
          "model_name": "FileUploadModel",
          "state": {
            "_view_name": "FileUploadView",
            "_counter": 5,
            "style": "IPY_MODEL_7f63083674e74f5287e3cd181f2f9572",
            "_dom_classes": [],
            "description": "Upload",
            "multiple": false,
            "_model_name": "FileUploadModel",
            "data": [
              null
            ],
            "button_style": "",
            "_view_module": "@jupyter-widgets/controls",
            "_model_module_version": "1.5.0",
            "accept": "",
            "_view_count": null,
            "disabled": false,
            "_view_module_version": "1.5.0",
            "error": "",
            "description_tooltip": null,
            "metadata": [
              {
                "name": "black3.jpg",
                "type": "image/jpeg",
                "size": 239484,
                "lastModified": 1601993609529
              }
            ],
            "_model_module": "@jupyter-widgets/controls",
            "layout": "IPY_MODEL_6a86375e9c47444ab98d1c6f62354da1",
            "icon": "upload"
          }
        },
        "315906fa0ef041d7815bc659079eddb9": {
          "model_module": "@jupyter-widgets/output",
          "model_name": "OutputModel",
          "state": {
            "_view_name": "OutputView",
            "msg_id": "",
            "_dom_classes": [],
            "_model_name": "OutputModel",
            "outputs": [
              {
                "output_type": "display_data",
                "metadata": {
                  "tags": []
                },
                "image/png": "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\n",
                "text/plain": "<PIL.Image.Image image mode=RGB size=128x75 at 0x7FD8762B0400>"
              }
            ],
            "_view_module": "@jupyter-widgets/output",
            "_model_module_version": "1.0.0",
            "_view_count": null,
            "_view_module_version": "1.0.0",
            "layout": "IPY_MODEL_4e0ea284f0384481ade9c959925360c0",
            "_model_module": "@jupyter-widgets/output"
          }
        },
        "48349089b9154a839295363970a1d37a": {
          "model_module": "@jupyter-widgets/controls",
          "model_name": "LabelModel",
          "state": {
            "_view_name": "LabelView",
            "style": "IPY_MODEL_f59516cc95c846dab49a51fdd0cae3b7",
            "_dom_classes": [],
            "description": "",
            "_model_name": "LabelModel",
            "placeholder": "​",
            "_view_module": "@jupyter-widgets/controls",
            "_model_module_version": "1.5.0",
            "value": "Prediction: black; Probability: 0.9996",
            "_view_count": null,
            "_view_module_version": "1.5.0",
            "description_tooltip": null,
            "_model_module": "@jupyter-widgets/controls",
            "layout": "IPY_MODEL_75b2c985f9d64e97a1ddb88e94ca4c2c"
          }
        },
        "5d7db9539901477589e82bb497f0b541": {
          "model_module": "@jupyter-widgets/controls",
          "model_name": "DescriptionStyleModel",
          "state": {
            "_view_name": "StyleView",
            "_model_name": "DescriptionStyleModel",
            "description_width": "",
            "_view_module": "@jupyter-widgets/base",
            "_model_module_version": "1.5.0",
            "_view_count": null,
            "_view_module_version": "1.2.0",
            "_model_module": "@jupyter-widgets/controls"
          }
        },
        "f44c3773f12c4001b66ebc605d5de8f3": {
          "model_module": "@jupyter-widgets/base",
          "model_name": "LayoutModel",
          "state": {
            "_view_name": "LayoutView",
            "grid_template_rows": null,
            "right": null,
            "justify_content": null,
            "_view_module": "@jupyter-widgets/base",
            "overflow": null,
            "_model_module_version": "1.2.0",
            "_view_count": null,
            "flex_flow": null,
            "width": null,
            "min_width": null,
            "border": null,
            "align_items": null,
            "bottom": null,
            "_model_module": "@jupyter-widgets/base",
            "top": null,
            "grid_column": null,
            "overflow_y": null,
            "overflow_x": null,
            "grid_auto_flow": null,
            "grid_area": null,
            "grid_template_columns": null,
            "flex": null,
            "_model_name": "LayoutModel",
            "justify_items": null,
            "grid_row": null,
            "max_height": null,
            "align_content": null,
            "visibility": null,
            "align_self": null,
            "height": null,
            "min_height": null,
            "padding": null,
            "grid_auto_rows": null,
            "grid_gap": null,
            "max_width": null,
            "order": null,
            "_view_module_version": "1.2.0",
            "grid_template_areas": null,
            "object_position": null,
            "object_fit": null,
            "grid_auto_columns": null,
            "margin": null,
            "display": null,
            "left": null
          }
        },
        "7f63083674e74f5287e3cd181f2f9572": {
          "model_module": "@jupyter-widgets/controls",
          "model_name": "ButtonStyleModel",
          "state": {
            "_view_name": "StyleView",
            "_model_name": "ButtonStyleModel",
            "_view_module": "@jupyter-widgets/base",
            "_model_module_version": "1.5.0",
            "_view_count": null,
            "button_color": null,
            "font_weight": "",
            "_view_module_version": "1.2.0",
            "_model_module": "@jupyter-widgets/controls"
          }
        },
        "6a86375e9c47444ab98d1c6f62354da1": {
          "model_module": "@jupyter-widgets/base",
          "model_name": "LayoutModel",
          "state": {
            "_view_name": "LayoutView",
            "grid_template_rows": null,
            "right": null,
            "justify_content": null,
            "_view_module": "@jupyter-widgets/base",
            "overflow": null,
            "_model_module_version": "1.2.0",
            "_view_count": null,
            "flex_flow": null,
            "width": null,
            "min_width": null,
            "border": null,
            "align_items": null,
            "bottom": null,
            "_model_module": "@jupyter-widgets/base",
            "top": null,
            "grid_column": null,
            "overflow_y": null,
            "overflow_x": null,
            "grid_auto_flow": null,
            "grid_area": null,
            "grid_template_columns": null,
            "flex": null,
            "_model_name": "LayoutModel",
            "justify_items": null,
            "grid_row": null,
            "max_height": null,
            "align_content": null,
            "visibility": null,
            "align_self": null,
            "height": null,
            "min_height": null,
            "padding": null,
            "grid_auto_rows": null,
            "grid_gap": null,
            "max_width": null,
            "order": null,
            "_view_module_version": "1.2.0",
            "grid_template_areas": null,
            "object_position": null,
            "object_fit": null,
            "grid_auto_columns": null,
            "margin": null,
            "display": null,
            "left": null
          }
        },
        "f59516cc95c846dab49a51fdd0cae3b7": {
          "model_module": "@jupyter-widgets/controls",
          "model_name": "DescriptionStyleModel",
          "state": {
            "_view_name": "StyleView",
            "_model_name": "DescriptionStyleModel",
            "description_width": "",
            "_view_module": "@jupyter-widgets/base",
            "_model_module_version": "1.5.0",
            "_view_count": null,
            "_view_module_version": "1.2.0",
            "_model_module": "@jupyter-widgets/controls"
          }
        },
        "75b2c985f9d64e97a1ddb88e94ca4c2c": {
          "model_module": "@jupyter-widgets/base",
          "model_name": "LayoutModel",
          "state": {
            "_view_name": "LayoutView",
            "grid_template_rows": null,
            "right": null,
            "justify_content": null,
            "_view_module": "@jupyter-widgets/base",
            "overflow": null,
            "_model_module_version": "1.2.0",
            "_view_count": null,
            "flex_flow": null,
            "width": null,
            "min_width": null,
            "border": null,
            "align_items": null,
            "bottom": null,
            "_model_module": "@jupyter-widgets/base",
            "top": null,
            "grid_column": null,
            "overflow_y": null,
            "overflow_x": null,
            "grid_auto_flow": null,
            "grid_area": null,
            "grid_template_columns": null,
            "flex": null,
            "_model_name": "LayoutModel",
            "justify_items": null,
            "grid_row": null,
            "max_height": null,
            "align_content": null,
            "visibility": null,
            "align_self": null,
            "height": null,
            "min_height": null,
            "padding": null,
            "grid_auto_rows": null,
            "grid_gap": null,
            "max_width": null,
            "order": null,
            "_view_module_version": "1.2.0",
            "grid_template_areas": null,
            "object_position": null,
            "object_fit": null,
            "grid_auto_columns": null,
            "margin": null,
            "display": null,
            "left": null
          }
        },
        "4e0ea284f0384481ade9c959925360c0": {
          "model_module": "@jupyter-widgets/base",
          "model_name": "LayoutModel",
          "state": {
            "_view_name": "LayoutView",
            "grid_template_rows": null,
            "right": null,
            "justify_content": null,
            "_view_module": "@jupyter-widgets/base",
            "overflow": null,
            "_model_module_version": "1.2.0",
            "_view_count": null,
            "flex_flow": null,
            "width": null,
            "min_width": null,
            "border": null,
            "align_items": null,
            "bottom": null,
            "_model_module": "@jupyter-widgets/base",
            "top": null,
            "grid_column": null,
            "overflow_y": null,
            "overflow_x": null,
            "grid_auto_flow": null,
            "grid_area": null,
            "grid_template_columns": null,
            "flex": null,
            "_model_name": "LayoutModel",
            "justify_items": null,
            "grid_row": null,
            "max_height": null,
            "align_content": null,
            "visibility": null,
            "align_self": null,
            "height": null,
            "min_height": null,
            "padding": null,
            "grid_auto_rows": null,
            "grid_gap": null,
            "max_width": null,
            "order": null,
            "_view_module_version": "1.2.0",
            "grid_template_areas": null,
            "object_position": null,
            "object_fit": null,
            "grid_auto_columns": null,
            "margin": null,
            "display": null,
            "left": null
          }
        }
      }
    }
  },
  "cells": [
    {
      "cell_type": "markdown",
      "metadata": {
        "id": "view-in-github",
        "colab_type": "text"
      },
      "source": [
        "<a href=\"https://colab.research.google.com/github/susanford/bear_voila/blob/master/Copy_of_bear_classifier.ipynb\" target=\"_parent\"><img src=\"https://colab.research.google.com/assets/colab-badge.svg\" alt=\"Open In Colab\"/></a>"
      ]
    },
    {
      "cell_type": "code",
      "metadata": {
        "id": "Vxg8Y3KaG4za"
      },
      "source": [
        "!pip install -Uqq fastai"
      ],
      "execution_count": 1,
      "outputs": []
    },
    {
      "cell_type": "code",
      "metadata": {
        "id": "JMGyNuCQAItk"
      },
      "source": [
        "from fastai.vision.all import *\n",
        "from fastai.vision.widgets import *"
      ],
      "execution_count": 2,
      "outputs": []
    },
    {
      "cell_type": "markdown",
      "metadata": {
        "id": "AfbvABbGAIuA"
      },
      "source": [
        "# The Amazing Bear Classifier!"
      ]
    },
    {
      "cell_type": "markdown",
      "metadata": {
        "id": "kXx0RTf-AIuD"
      },
      "source": [
        "You need to know whether you're being chased by a dangerous grizzly, or a sweet teddy bear, and you need an answer *fast*? Then you've come to the right place. Take a pic of the potentially vicious killer, and click 'upload' to classify it. (Important: this only handles grizzly bears, black bears, and teddy bears. It will **not** give a sensible answer for polar bears, a bear market, a bear of a man, or hot dogs.\n",
        "\n",
        "----"
      ]
    },
    {
      "cell_type": "markdown",
      "metadata": {
        "id": "0X4GD4FGSaKF"
      },
      "source": [
        "**My code**\n",
        "mount drive so can get the export.pkl file from ch 2 nbk as required in code below"
      ]
    },
    {
      "cell_type": "code",
      "metadata": {
        "id": "sA45cPfLO35K",
        "outputId": "4b16d04a-29b0-4d22-bbe3-ed42d48a9535",
        "colab": {
          "base_uri": "https://localhost:8080/",
          "height": 35
        }
      },
      "source": [
        "from google.colab import drive\n",
        "drive.mount('/content/drive')"
      ],
      "execution_count": 7,
      "outputs": [
        {
          "output_type": "stream",
          "text": [
            "Mounted at /content/drive\n"
          ],
          "name": "stdout"
        }
      ]
    },
    {
      "cell_type": "markdown",
      "metadata": {
        "id": "8rNtl4kBSo6x"
      },
      "source": [
        "**End my code**"
      ]
    },
    {
      "cell_type": "code",
      "metadata": {
        "id": "YParjwVYAIuM"
      },
      "source": [
        "path = Path()\n",
        "learn_inf = load_learner(path/'export.pkl', cpu=True)\n",
        "btn_upload = widgets.FileUpload()\n",
        "out_pl = widgets.Output()\n",
        "lbl_pred = widgets.Label()"
      ],
      "execution_count": 8,
      "outputs": []
    },
    {
      "cell_type": "code",
      "metadata": {
        "id": "kbL0DjE7AIuq"
      },
      "source": [
        "def on_data_change(change):\n",
        "    lbl_pred.value = ''\n",
        "    img = PILImage.create(btn_upload.data[-1])\n",
        "    out_pl.clear_output()\n",
        "    with out_pl: display(img.to_thumb(128,128))\n",
        "    pred,pred_idx,probs = learn_inf.predict(img)\n",
        "    lbl_pred.value = f'Prediction: {pred}; Probability: {probs[pred_idx]:.04f}'"
      ],
      "execution_count": 9,
      "outputs": []
    },
    {
      "cell_type": "code",
      "metadata": {
        "id": "yX5WjwPAAIvD"
      },
      "source": [
        "btn_upload.observe(on_data_change, names=['data'])"
      ],
      "execution_count": 10,
      "outputs": []
    },
    {
      "cell_type": "code",
      "metadata": {
        "scrolled": false,
        "id": "MdQsl5lKAIvW",
        "outputId": "9c63e79e-3c82-44f0-ff9a-c6544a9ab959",
        "colab": {
          "base_uri": "https://localhost:8080/",
          "height": 188,
          "referenced_widgets": [
            "0bda41c9755f436498fbbe2ae87c75be",
            "02d4fa59a5ca46fb81e9e37e6095d15d",
            "ef2ce1bcabc34b378e88bcb63526e445",
            "2f54ff8c04e24ea793e0e1997d66bab6",
            "315906fa0ef041d7815bc659079eddb9",
            "48349089b9154a839295363970a1d37a",
            "5d7db9539901477589e82bb497f0b541",
            "f44c3773f12c4001b66ebc605d5de8f3",
            "7f63083674e74f5287e3cd181f2f9572",
            "6a86375e9c47444ab98d1c6f62354da1",
            "f59516cc95c846dab49a51fdd0cae3b7",
            "75b2c985f9d64e97a1ddb88e94ca4c2c",
            "4e0ea284f0384481ade9c959925360c0"
          ]
        }
      },
      "source": [
        "display(VBox([widgets.Label('Select your bear!'), btn_upload, out_pl, lbl_pred]))"
      ],
      "execution_count": 11,
      "outputs": [
        {
          "output_type": "display_data",
          "data": {
            "application/vnd.jupyter.widget-view+json": {
              "model_id": "0bda41c9755f436498fbbe2ae87c75be",
              "version_minor": 0,
              "version_major": 2
            },
            "text/plain": [
              "VBox(children=(Label(value='Select your bear!'), FileUpload(value={}, description='Upload'), Output(), Label(v…"
            ]
          },
          "metadata": {
            "tags": []
          }
        },
        {
          "output_type": "display_data",
          "data": {
            "text/html": [
              ""
            ],
            "text/plain": [
              "<IPython.core.display.HTML object>"
            ]
          },
          "metadata": {
            "tags": []
          }
        },
        {
          "output_type": "display_data",
          "data": {
            "text/html": [
              ""
            ],
            "text/plain": [
              "<IPython.core.display.HTML object>"
            ]
          },
          "metadata": {
            "tags": []
          }
        },
        {
          "output_type": "display_data",
          "data": {
            "text/html": [
              ""
            ],
            "text/plain": [
              "<IPython.core.display.HTML object>"
            ]
          },
          "metadata": {
            "tags": []
          }
        },
        {
          "output_type": "display_data",
          "data": {
            "text/html": [
              ""
            ],
            "text/plain": [
              "<IPython.core.display.HTML object>"
            ]
          },
          "metadata": {
            "tags": []
          }
        },
        {
          "output_type": "display_data",
          "data": {
            "text/html": [
              ""
            ],
            "text/plain": [
              "<IPython.core.display.HTML object>"
            ]
          },
          "metadata": {
            "tags": []
          }
        }
      ]
    },
    {
      "cell_type": "markdown",
      "metadata": {
        "id": "w1Y8ti3RYHLU"
      },
      "source": [
        "Some  more text\n",
        "\n",
        "```\n",
        "# This is formatted as code\n",
        "```\n",
        "\n"
      ]
    },
    {
      "cell_type": "code",
      "metadata": {
        "id": "XuLDN0t1AIvm"
      },
      "source": [
        ""
      ],
      "execution_count": 11,
      "outputs": []
    }
  ]
}